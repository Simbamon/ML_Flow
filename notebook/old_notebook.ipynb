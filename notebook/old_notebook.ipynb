{
 "cells": [
  {
   "cell_type": "code",
   "execution_count": null,
   "id": "67febe95-dd8e-4564-8a5e-e641bb16906e",
   "metadata": {},
   "outputs": [],
   "source": [
    "import math\n",
    "import numpy as np\n",
    "import pandas as pd\n",
    "import tensorflow as tf\n",
    "import matplotlib.pyplot as plt\n",
    "from sklearn.model_selection import train_test_split\n",
    "from sklearn.metrics import mean_squared_error\n",
    "from sklearn.datasets import fetch_california_housing\n",
    "import tensorflow_addons as tfa\n",
    "\n",
    "from tensorflow.keras.callbacks import EarlyStopping\n",
    "\n",
    "from tabtransformertf.models.fttransformer import FTTransformerEncoder, FTTransformer\n",
    "from tabtransformertf.utils.preprocessing import df_to_dataset\n",
    "\n",
    "import catboost as cb\n",
    "from sklearn.preprocessing import StandardScaler\n",
    "from sklearn.ensemble import RandomForestRegressor\n",
    "import seaborn as sns"
   ]
  },
  {
   "cell_type": "code",
   "execution_count": 2,
   "id": "a44d4949-4d7f-4f55-abcf-5184756d4814",
   "metadata": {},
   "outputs": [],
   "source": [
    "%matplotlib inline\n",
    "plt.rcParams[\"figure.figsize\"] = (20,10)\n",
    "plt.rcParams.update({'font.size': 15})"
   ]
  },
  {
   "cell_type": "code",
   "execution_count": 53,
   "id": "e3a3d374-bcc2-4af9-b972-0fa4f7e2f346",
   "metadata": {},
   "outputs": [],
   "source": [
    "import random\n",
    "random.seed(42)"
   ]
  },
  {
   "cell_type": "markdown",
   "id": "3f89b597-3f3a-4079-bc7c-ad3fbf16dba8",
   "metadata": {},
   "source": [
    "## Download Data"
   ]
  },
  {
   "cell_type": "code",
   "execution_count": 36,
   "id": "03901e64-09df-4625-87f1-4c36e16457de",
   "metadata": {},
   "outputs": [],
   "source": [
    "dset = fetch_california_housing()"
   ]
  },
  {
   "cell_type": "code",
   "execution_count": 37,
   "id": "233c9d44-5bcf-438d-a918-9ddd1eadae1c",
   "metadata": {},
   "outputs": [],
   "source": [
    "data = dset['data']\n",
    "y = dset['target']\n",
    "LABEL = dset['target_names'][0]\n",
    "\n",
    "NUMERIC_FEATURES = ['MedInc', 'HouseAge', 'AveRooms', 'AveBedrms', 'Population', 'AveOccup', 'Longitude', 'Latitude']\n",
    "\n",
    "data = pd.DataFrame(data, columns=dset['feature_names'])\n",
    "data[LABEL] = y"
   ]
  },
  {
   "cell_type": "code",
   "execution_count": 38,
   "id": "c346bb4b-4970-4a98-b4a1-520cadf0e6cd",
   "metadata": {},
   "outputs": [],
   "source": [
    "train_data, test_data = train_test_split(data, test_size=0.2)"
   ]
  },
  {
   "cell_type": "code",
   "execution_count": null,
   "id": "72159882-5ba1-4784-a71a-f4e5c093f96e",
   "metadata": {},
   "outputs": [],
   "source": [
    "print(f\"Train dataset shape: {train_data.shape}\")\n",
    "print(f\"Test dataset shape: {test_data.shape}\")\n"
   ]
  },
  {
   "cell_type": "markdown",
   "id": "89bff333-3750-46c9-b687-3f06a8f43845",
   "metadata": {},
   "source": [
    "## Data Processing"
   ]
  },
  {
   "cell_type": "code",
   "execution_count": 40,
   "id": "00ed6d33-d0d7-4e43-bff3-87c92649ad09",
   "metadata": {},
   "outputs": [],
   "source": [
    "X_train, X_val = train_test_split(train_data, test_size=0.2)"
   ]
  },
  {
   "cell_type": "code",
   "execution_count": 41,
   "id": "8f1a1647-31e7-4ad8-b851-92107d12868a",
   "metadata": {},
   "outputs": [],
   "source": [
    "sc = StandardScaler()\n",
    "X_train.loc[:, NUMERIC_FEATURES] = sc.fit_transform(X_train[NUMERIC_FEATURES])\n",
    "X_val.loc[:, NUMERIC_FEATURES] = sc.transform(X_val[NUMERIC_FEATURES])\n",
    "test_data.loc[:, NUMERIC_FEATURES] = sc.transform(test_data[NUMERIC_FEATURES])"
   ]
  },
  {
   "cell_type": "code",
   "execution_count": 42,
   "id": "662fc59b-baf0-46db-8060-65a98760c15d",
   "metadata": {},
   "outputs": [],
   "source": [
    "FEATURES = NUMERIC_FEATURES"
   ]
  },
  {
   "cell_type": "code",
   "execution_count": null,
   "id": "e038953e-06d7-4670-9408-cc63fa89941a",
   "metadata": {},
   "outputs": [],
   "source": [
    "sns.distplot(X_train[LABEL])\n",
    "sns.distplot(X_val[LABEL])\n",
    "sns.distplot(test_data[LABEL])"
   ]
  },
  {
   "cell_type": "markdown",
   "id": "be5a5c46-f4bd-4c52-9556-666eabafc51f",
   "metadata": {},
   "source": [
    "# Baselines"
   ]
  },
  {
   "cell_type": "code",
   "execution_count": null,
   "id": "ebbed2eb-bee6-4fcf-8e41-cfef0eeaeb86",
   "metadata": {},
   "outputs": [],
   "source": [
    "rf = RandomForestRegressor(n_estimators=100, max_depth=20)\n",
    "rf.fit(X_train[FEATURES], X_train[LABEL])"
   ]
  },
  {
   "cell_type": "code",
   "execution_count": null,
   "id": "e7853225-f417-4981-89f5-97341d4a9096",
   "metadata": {},
   "outputs": [],
   "source": [
    "rf_preds = rf.predict(test_data[FEATURES])\n",
    "rf_rms = mean_squared_error(test_data[LABEL], rf_preds, squared=False)\n",
    "print(rf_rms)"
   ]
  },
  {
   "cell_type": "markdown",
   "id": "c65b7f4d-a77f-4d6d-9e7c-e641b139ee77",
   "metadata": {},
   "source": [
    "## CatBoost"
   ]
  },
  {
   "cell_type": "code",
   "execution_count": 46,
   "id": "cb051074-05f5-4f5c-bc5d-ed565bdfa090",
   "metadata": {},
   "outputs": [],
   "source": [
    "catb_train_dataset = cb.Pool(X_train[FEATURES], X_train[LABEL]) \n",
    "catb_val_dataset = cb.Pool(X_val[FEATURES], X_val[LABEL]) \n",
    "catb_test_dataset = cb.Pool(test_data[FEATURES], test_data[LABEL])"
   ]
  },
  {
   "cell_type": "code",
   "execution_count": null,
   "id": "440f05f9-7d75-4fad-acbf-59ef7bed2659",
   "metadata": {
    "collapsed": true,
    "jupyter": {
     "outputs_hidden": true
    },
    "tags": []
   },
   "outputs": [],
   "source": [
    "tuned_catb = cb.CatBoostRegressor()\n",
    "tuned_catb.fit(catb_train_dataset, eval_set=catb_val_dataset, early_stopping_rounds=50)"
   ]
  },
  {
   "cell_type": "code",
   "execution_count": 89,
   "id": "1e590998-c6b8-42e7-8166-161c503047f8",
   "metadata": {},
   "outputs": [],
   "source": [
    "catb_preds = tuned_catb.predict(catb_test_dataset)"
   ]
  },
  {
   "cell_type": "code",
   "execution_count": 90,
   "id": "55c09369-04b9-4214-a296-1b56312591a5",
   "metadata": {},
   "outputs": [],
   "source": [
    "catb_rms = mean_squared_error(test_data[LABEL], catb_preds, squared=False)"
   ]
  },
  {
   "cell_type": "markdown",
   "id": "a07ad92f-f1b9-46ad-9b61-831cbc903e22",
   "metadata": {},
   "source": [
    "## Modelling Prep"
   ]
  },
  {
   "cell_type": "code",
   "execution_count": null,
   "id": "9bfdb641-4fec-4f2e-a84f-149a41e2a02b",
   "metadata": {},
   "outputs": [],
   "source": [
    "# To TF Dataset\n",
    "train_dataset = df_to_dataset(X_train[FEATURES + [LABEL]], LABEL, shuffle=True)\n",
    "val_dataset = df_to_dataset(X_val[FEATURES + [LABEL]], LABEL, shuffle=False)  # No shuffle\n",
    "test_dataset = df_to_dataset(test_data[FEATURES + [LABEL]], shuffle=False) # No target, no shuffle"
   ]
  },
  {
   "cell_type": "markdown",
   "id": "abe05de6-639b-48b6-8387-e44be0d8db0c",
   "metadata": {},
   "source": [
    "# FTTransformer"
   ]
  },
  {
   "cell_type": "markdown",
   "id": "9342c4cd-d309-420f-b966-c6377030d6d4",
   "metadata": {},
   "source": [
    "## FT Transformer - Linear Numerical Encoding"
   ]
  },
  {
   "cell_type": "code",
   "execution_count": null,
   "id": "d46c4f93-579e-4de1-8ff2-a57334ac5ca0",
   "metadata": {
    "collapsed": true,
    "jupyter": {
     "outputs_hidden": true
    },
    "tags": []
   },
   "outputs": [],
   "source": [
    "ft_linear_encoder = FTTransformerEncoder(\n",
    "    numerical_features = NUMERIC_FEATURES,\n",
    "    categorical_features = [],\n",
    "    numerical_data = X_train[NUMERIC_FEATURES].values,\n",
    "    categorical_data =None, # No categorical data\n",
    "    y = None,\n",
    "    numerical_embedding_type='linear',\n",
    "    embedding_dim=64,\n",
    "    depth=3,\n",
    "    heads=6,\n",
    "    attn_dropout=0.3,\n",
    "    ff_dropout=0.3,\n",
    "    explainable=True\n",
    ")\n",
    "\n",
    "# Pass th encoder to the model\n",
    "ft_linear_transformer = FTTransformer(\n",
    "    encoder=ft_linear_encoder,\n",
    "    out_dim=1,\n",
    "    out_activation=\"relu\",\n",
    ")\n",
    "\n",
    "LEARNING_RATE = 0.001\n",
    "WEIGHT_DECAY = 0.0001\n",
    "NUM_EPOCHS = 1000\n",
    "\n",
    "optimizer = tfa.optimizers.AdamW(\n",
    "        learning_rate=LEARNING_RATE, weight_decay=WEIGHT_DECAY\n",
    "    )\n",
    "\n",
    "ft_linear_transformer.compile(\n",
    "    optimizer = optimizer,\n",
    "    loss = {\"output\": tf.keras.losses.MeanSquaredError(name='mse'), \"importances\": None},\n",
    "    metrics= {\"output\": [tf.keras.metrics.RootMeanSquaredError(name='rmse')], \"importances\": None},\n",
    ")\n",
    "\n",
    "early = EarlyStopping(monitor=\"val_output_loss\", mode=\"min\", patience=16, restore_best_weights=True)\n",
    "callback_list = [early]\n",
    "\n",
    "ft_linear_history = ft_linear_transformer.fit(\n",
    "    train_dataset, \n",
    "    epochs=NUM_EPOCHS, \n",
    "    validation_data=val_dataset,\n",
    "    callbacks=callback_list\n",
    ")"
   ]
  },
  {
   "cell_type": "markdown",
   "id": "56969cbe-ad46-4ae5-b7df-dbfce2a1053c",
   "metadata": {},
   "source": [
    "## FT Transformer - Periodic Numerical Encoding"
   ]
  },
  {
   "cell_type": "code",
   "execution_count": null,
   "id": "e29156d1-7d28-439b-9e00-2a98e38f1fb1",
   "metadata": {
    "collapsed": true,
    "jupyter": {
     "outputs_hidden": true
    },
    "tags": []
   },
   "outputs": [],
   "source": [
    "ft_periodic_encoder = FTTransformerEncoder(\n",
    "    numerical_features = NUMERIC_FEATURES,\n",
    "    categorical_features = [],\n",
    "    numerical_data = X_train[NUMERIC_FEATURES].values,\n",
    "    categorical_data = None,\n",
    "    y = None,\n",
    "    numerical_embedding_type='periodic',\n",
    "    numerical_bins=128,\n",
    "    embedding_dim=64,\n",
    "    depth=3,\n",
    "    heads=6,\n",
    "    attn_dropout=0.3,\n",
    "    ff_dropout=0.3,\n",
    "    explainable=True\n",
    ")\n",
    "\n",
    "# Pass th encoder to the model\n",
    "ft_periodic_transformer = FTTransformer(\n",
    "    encoder=ft_periodic_encoder,\n",
    "    out_dim=1,\n",
    "    out_activation=\"relu\",\n",
    ")\n",
    "\n",
    "LEARNING_RATE = 0.001\n",
    "WEIGHT_DECAY = 0.0001\n",
    "NUM_EPOCHS = 1000\n",
    "\n",
    "optimizer = tfa.optimizers.AdamW(\n",
    "        learning_rate=LEARNING_RATE, weight_decay=WEIGHT_DECAY\n",
    "    )\n",
    "\n",
    "ft_periodic_transformer.compile(\n",
    "    optimizer = optimizer,\n",
    "    loss = {\"output\": tf.keras.losses.MeanSquaredError(name='mse'), \"importances\": None},\n",
    "    metrics= {\"output\": [tf.keras.metrics.RootMeanSquaredError(name='rmse')], \"importances\": None},\n",
    ")\n",
    "\n",
    "early = EarlyStopping(monitor=\"val_output_loss\", mode=\"min\", patience=16, restore_best_weights=True)\n",
    "callback_list = [early]\n",
    "\n",
    "ft_periodic_history = ft_periodic_transformer.fit(\n",
    "    train_dataset, \n",
    "    epochs=NUM_EPOCHS, \n",
    "    validation_data=val_dataset,\n",
    "    callbacks=callback_list\n",
    ")"
   ]
  },
  {
   "cell_type": "markdown",
   "id": "16d17ead-5286-430b-bdb7-bb1ac5607ea8",
   "metadata": {},
   "source": [
    "## FT Transformer - PLE Quantile"
   ]
  },
  {
   "cell_type": "code",
   "execution_count": null,
   "id": "167eaf14-79c9-428f-965f-d4133d073462",
   "metadata": {
    "collapsed": true,
    "jupyter": {
     "outputs_hidden": true
    },
    "tags": []
   },
   "outputs": [],
   "source": [
    "ft_pleq_encoder = FTTransformerEncoder(\n",
    "    numerical_features = NUMERIC_FEATURES,\n",
    "    categorical_features = [],\n",
    "    numerical_data = X_train[NUMERIC_FEATURES].values,\n",
    "    categorical_data = None,\n",
    "    y = None,\n",
    "    numerical_embedding_type='ple',\n",
    "    numerical_bins=128,\n",
    "    embedding_dim=64,\n",
    "    depth=3,\n",
    "    heads=6,\n",
    "    attn_dropout=0.3,\n",
    "    ff_dropout=0.3,\n",
    "    explainable=True\n",
    ")\n",
    "\n",
    "# Pass the encoder to the model\n",
    "ft_pleq_transformer = FTTransformer(\n",
    "    encoder=ft_pleq_encoder,\n",
    "    out_dim=1,\n",
    "    out_activation=\"relu\",\n",
    ")\n",
    "\n",
    "LEARNING_RATE = 0.001\n",
    "WEIGHT_DECAY = 0.0001\n",
    "NUM_EPOCHS = 1000\n",
    "\n",
    "optimizer = tfa.optimizers.AdamW(\n",
    "        learning_rate=LEARNING_RATE, weight_decay=WEIGHT_DECAY\n",
    "    )\n",
    "\n",
    "ft_pleq_transformer.compile(\n",
    "    optimizer = optimizer,\n",
    "    loss = {\"output\": tf.keras.losses.MeanSquaredError(name='mse'), \"importances\": None},\n",
    "    metrics= {\"output\": [tf.keras.metrics.RootMeanSquaredError(name='rmse')], \"importances\": None},\n",
    ")\n",
    "\n",
    "early = EarlyStopping(monitor=\"val_loss\", mode=\"min\", patience=20, restore_best_weights=True)\n",
    "callback_list = [early]\n",
    "\n",
    "ft_pleq_history = ft_pleq_transformer.fit(\n",
    "    train_dataset, \n",
    "    epochs=NUM_EPOCHS, \n",
    "    validation_data=val_dataset,\n",
    "    callbacks=callback_list\n",
    ")"
   ]
  },
  {
   "cell_type": "markdown",
   "id": "1d0ada4d-9c65-4edc-ad35-8bd50a848a19",
   "metadata": {},
   "source": [
    "## FT Transformer - PLE Target"
   ]
  },
  {
   "cell_type": "code",
   "execution_count": null,
   "id": "dcdd7125-82cd-4328-84fa-8658c5cf4cd3",
   "metadata": {
    "collapsed": true,
    "jupyter": {
     "outputs_hidden": true
    },
    "tags": []
   },
   "outputs": [],
   "source": [
    "ft_plet_encoder = FTTransformerEncoder(\n",
    "   numerical_features = NUMERIC_FEATURES,\n",
    "    categorical_features = [],\n",
    "    numerical_data = X_train[NUMERIC_FEATURES].values,\n",
    "    categorical_data = None,\n",
    "    y = X_train[LABEL].values,\n",
    "    task='regression',\n",
    "    numerical_embedding_type='ple',\n",
    "    numerical_bins=128,\n",
    "    embedding_dim=64,\n",
    "    depth=3,\n",
    "    heads=6,\n",
    "    attn_dropout=0.3,\n",
    "    ff_dropout=0.3,\n",
    "    ple_tree_params = {\n",
    "        \"min_samples_leaf\": 20,\n",
    "    },\n",
    "    explainable=True\n",
    ")\n",
    "\n",
    "\n",
    "# Pass th encoder to the model\n",
    "ft_plet_transformer = FTTransformer(\n",
    "    encoder=ft_plet_encoder,\n",
    "    out_dim=1,\n",
    "    out_activation=None,\n",
    ")\n",
    "\n",
    "LEARNING_RATE = 0.001\n",
    "WEIGHT_DECAY = 0.0001\n",
    "NUM_EPOCHS = 1000\n",
    "\n",
    "optimizer = tfa.optimizers.AdamW(\n",
    "        learning_rate=LEARNING_RATE, weight_decay=WEIGHT_DECAY\n",
    "    )\n",
    "\n",
    "ft_plet_transformer.compile(\n",
    "    optimizer = optimizer,\n",
    "    loss = {\"output\": tf.keras.losses.MeanSquaredError(name='mse'), \"importances\": None},\n",
    "    metrics= {\"output\": [tf.keras.metrics.RootMeanSquaredError(name='rmse')], \"importances\": None},\n",
    ")\n",
    "\n",
    "early = EarlyStopping(monitor=\"val_output_loss\", mode=\"min\", patience=20, restore_best_weights=True)\n",
    "callback_list = [early]\n",
    "\n",
    "ft_plet_history = ft_plet_transformer.fit(\n",
    "    train_dataset, \n",
    "    epochs=NUM_EPOCHS, \n",
    "    validation_data=val_dataset,\n",
    "    callbacks=callback_list\n",
    ")"
   ]
  },
  {
   "cell_type": "markdown",
   "id": "d808c6c9-a188-4131-aead-71bda9f1019f",
   "metadata": {},
   "source": [
    "## Compare"
   ]
  },
  {
   "cell_type": "code",
   "execution_count": null,
   "id": "2d3f4865-aa39-426d-b0f9-bd41872730e5",
   "metadata": {},
   "outputs": [],
   "source": [
    "plt.plot(ft_linear_history.history['val_loss'][:72], label='Linear Val Loss')\n",
    "plt.plot(ft_periodic_history.history['val_loss'][:100], label='Periodic Val Loss')\n",
    "plt.plot(ft_pleq_history.history['val_loss'][:100], label='PLE Quantile Val Loss')\n",
    "plt.plot(ft_plet_history.history['val_loss'][:100], label='PLE Target Val Loss')\n",
    "\n",
    "plt.title('Model Validation Loss')\n",
    "plt.legend()\n",
    "plt.show()"
   ]
  },
  {
   "cell_type": "code",
   "execution_count": 92,
   "id": "220a564a-fe8a-44b0-88de-0a3f349355c7",
   "metadata": {},
   "outputs": [],
   "source": [
    "linear_test_preds = ft_linear_transformer.predict(test_dataset)\n",
    "linear_rms = mean_squared_error(test_data[LABEL], linear_test_preds['output'].ravel(), squared=False)\n",
    "\n",
    "periodic_test_preds = ft_periodic_transformer.predict(test_dataset)\n",
    "periodic_rms = mean_squared_error(test_data[LABEL], periodic_test_preds['output'].ravel()., squared=False)\n",
    "\n",
    "pleq_test_preds = ft_pleq_transformer.predict(test_dataset)\n",
    "pleq_rms = mean_squared_error(test_data[LABEL], pleq_test_preds['output'].ravel(), squared=False)\n",
    "\n",
    "plet_test_preds = ft_plet_transformer.predict(test_dataset)\n",
    "plet_rms = mean_squared_error(test_data[LABEL], plet_test_preds['output'].ravel(), squared=False)"
   ]
  },
  {
   "cell_type": "code",
   "execution_count": null,
   "id": "cd904ea5-be28-4908-a06d-d0ff4ff64f85",
   "metadata": {},
   "outputs": [],
   "source": [
    "print(\"-\" * 28 + \" FT Transformer \" + \"-\" * 27)\n",
    "print(\"Linear Encoding RMSE:\", linear_rms.round(4))\n",
    "print(\"Periodic Encoding RMSE:\", periodic_rms.round(4))\n",
    "print(\"PLE Encoding with Qantile Binning RMSE:\", pleq_rms.round(4))\n",
    "print(\"PLE Encoding with Target Binning RMSE:\", plet_rms.round(4))\n",
    "print(\"\")\n",
    "print(\"-\" * 30 + \" Baselines \" + \"-\" * 30)\n",
    "print(\"Random Forest RMSE:\", rf_rms.round(4))\n",
    "print(\"Catboost RMSE:\", catb_rms.round(4))\n"
   ]
  },
  {
   "cell_type": "markdown",
   "id": "98c47f96-2c17-42e6-9583-39a82bab3591",
   "metadata": {},
   "source": [
    "## Tuning"
   ]
  },
  {
   "cell_type": "code",
   "execution_count": 66,
   "id": "6f604736-e0e5-41c3-ba49-59b7e16ed45d",
   "metadata": {},
   "outputs": [],
   "source": [
    "# import optuna\n",
    "# import gc\n",
    "\n",
    "# def objective(trial):\n",
    "#     ft_encoder = FTTransformerEncoder(\n",
    "#         numerical_features = NUMERIC_FEATURES,\n",
    "#         categorical_features = [],\n",
    "#         numerical_data = X_train[NUMERIC_FEATURES].values,\n",
    "#         categorical_data = None,\n",
    "#         y = X_train[LABEL].values,\n",
    "#         task='regression',\n",
    "#         numerical_embedding_type= 'ple',\n",
    "#         numerical_bins=trial.suggest_int('numerical_bins', 20, 200),\n",
    "#         embedding_dim=trial.suggest_int('embedding_dim', 8, 100),\n",
    "#         depth=trial.suggest_int('depth', 1, 6),\n",
    "#         heads=trial.suggest_int('heads', 2, 8),\n",
    "#         attn_dropout=trial.suggest_float('attn_dropout', 0., 0.5),\n",
    "#         ff_dropout=trial.suggest_float('ff_dropout', 0., 0.5),\n",
    "#         explainable=True\n",
    "#     )\n",
    "\n",
    "\n",
    "#     # Pass th encoder to the model\n",
    "#     ft_transformer = FTTransformer(\n",
    "#         encoder=ft_encoder,\n",
    "#         out_dim=1,\n",
    "#         out_activation=housing_act\n",
    "#     )\n",
    "\n",
    "#     LEARNING_RATE = 0.001\n",
    "#     WEIGHT_DECAY = 0.00001\n",
    "#     NUM_EPOCHS = 1000\n",
    "\n",
    "#     optimizer = tfa.optimizers.AdamW(\n",
    "#             learning_rate=LEARNING_RATE, weight_decay=WEIGHT_DECAY\n",
    "#         )\n",
    "\n",
    "#     ft_transformer.compile(\n",
    "#         optimizer = optimizer,\n",
    "#         loss = {\"output\": tf.keras.losses.MeanSquaredError(name='mse'), \"importances\": None},\n",
    "#         metrics= {\"output\": [tf.keras.metrics.RootMeanSquaredError(name='rmse')], \"importances\": None},\n",
    "#     )\n",
    "\n",
    "#     early = EarlyStopping(monitor=\"val_output_loss\", mode=\"min\", patience=20, restore_best_weights=True)\n",
    "#     callback_list = [early]\n",
    "\n",
    "#     ft_history = ft_transformer.fit(\n",
    "#         train_dataset, \n",
    "#         epochs=NUM_EPOCHS, \n",
    "#         validation_data=val_dataset,\n",
    "#         callbacks=callback_list\n",
    "#     ) \n",
    "    \n",
    "#     preds = ft_transformer.predict(test_dataset)\n",
    "    \n",
    "#     rmse = mean_squared_error(test_data[LABEL], preds['output'].ravel().clip(0, 5),squared=False)\n",
    "#     gc.collect()\n",
    "    \n",
    "#     return rmse\n",
    "\n",
    "# study = optuna.create_study(direction='minimize')\n",
    "# study.optimize(objective, n_trials=50)\n",
    "\n",
    "# print('Number of finished trials:', len(study.trials))\n",
    "# print('Best trial:', study.best_trial.params)"
   ]
  }
 ],
 "metadata": {
  "kernelspec": {
   "display_name": "Python 3",
   "language": "python",
   "name": "python3"
  },
  "language_info": {
   "codemirror_mode": {
    "name": "ipython",
    "version": 3
   },
   "file_extension": ".py",
   "mimetype": "text/x-python",
   "name": "python",
   "nbconvert_exporter": "python",
   "pygments_lexer": "ipython3",
   "version": "3.11.1"
  }
 },
 "nbformat": 4,
 "nbformat_minor": 5
}
